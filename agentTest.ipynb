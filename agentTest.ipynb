{
 "cells": [
  {
   "cell_type": "code",
   "id": "initial_id",
   "metadata": {
    "collapsed": true,
    "ExecuteTime": {
     "end_time": "2025-07-14T06:44:13.743319Z",
     "start_time": "2025-07-14T06:44:12.053528Z"
    }
   },
   "source": [
    "from gettext import textdomain\n",
    "\n",
    "from langchain.chains.llm import LLMChain\n",
    "from langchain_community.chat_models import ChatZhipuAI\n",
    "\n",
    "chat = ChatZhipuAI();\n",
    "\n",
    "print(chat.invoke(\"你好\"))"
   ],
   "outputs": [
    {
     "name": "stdout",
     "output_type": "stream",
     "text": [
      "content='你好👋！我是人工智能助手智谱清言，可以叫我小智🤖，很高兴见到你，欢迎问我任何问题。' additional_kwargs={} response_metadata={'token_usage': {'completion_tokens': 32, 'prompt_tokens': 6, 'total_tokens': 38}, 'model_name': 'glm-4', 'finish_reason': 'stop'} id='run--fc07df51-8c3f-4d42-89fc-8684b75f19a5-0'\n"
     ]
    }
   ],
   "execution_count": 4
  },
  {
   "metadata": {},
   "cell_type": "code",
   "outputs": [],
   "execution_count": null,
   "source": "",
   "id": "cefe1524385b6218"
  },
  {
   "metadata": {
    "ExecuteTime": {
     "end_time": "2025-07-14T07:13:54.669828Z",
     "start_time": "2025-07-14T07:13:41.190296Z"
    }
   },
   "cell_type": "code",
   "source": [
    "from langchain_community.chat_models import ChatZhipuAI\n",
    "from langchain_core.prompts import PromptTemplate, HumanMessagePromptTemplate,SystemMessagePromptTemplate,AIMessagePromptTemplate\n",
    "from langchain_core.messages import SystemMessage,HumanMessage,AIMessage\n",
    "\n",
    "chat = ChatZhipuAI(model=\"glm-4\",temperature=1.0);\n",
    "\n",
    "human_promp = HumanMessagePromptTemplate.from_template(\"请讲一个关于{topic}的恐怖故事\").format(topic=\"鬼\");\n",
    "\n",
    "response = chat.invoke(input=[human_promp])\n",
    "\n",
    "print(response.content)\n"
   ],
   "id": "dee95893f23300cb",
   "outputs": [
    {
     "name": "stdout",
     "output_type": "stream",
     "text": [
      "在一个偏远的小山村里，有一座年代久远的破旧庙宇。传说，在许多年前，有一位年轻的女子因冤屈而死，她的魂魄附在了这座庙里。村民们对这个故事都避而远之，生怕招惹上不干净的东西。\n",
      "\n",
      "有一天，一群好奇心强的年轻人来到了这个小山村，听说了这个传说后，他们决定挑战恐怖，深夜探险这座庙宇。夜幕降临，月黑风高的晚上，这群年轻人拿着手电筒，来到了庙宇前。\n",
      "\n",
      "庙门吱呀作响地开了，一股阴冷的气息扑面而来。他们小心翼翼地走进庙内，发现里面布满了蜘蛛网和灰尘，显然已经很久没有人来过这里了。庙内供奉着一尊佛像，但已经残破不堪，看上去令人心生恐惧。\n",
      "\n",
      "年轻人中的一位胆大的男子，名叫小刚，他第一个走进庙内，想寻找传说中的女鬼。其他人在门口紧张地观望。庙内一片死寂，只有微弱的手电筒光芒在闪烁。突然，他们听到了一阵诡异的笑声，像是女子在嘲笑他们。\n",
      "\n",
      "恐惧的氛围笼罩着每个人，但他们还是壮着胆子继续向前走。在庙宇深处，他们发现了一个破旧的镜子。传说，这个镜子是女鬼附身的地方。小刚颤抖着举起手电筒，照向镜子。镜子中突然出现了一个苍白的面孔，正是那位冤死的女子。\n",
      "\n",
      "他们吓得魂飞魄散，拼命地往外跑。但诡异的事情发生了，原本敞开的庙门突然紧闭，他们被困在了庙内。慌乱中，他们发现庙内的佛像开始流血泪，恐怖至极。女鬼的笑声越发凄厉，仿佛在嘲笑着他们的无助。\n",
      "\n",
      "最后，他们使出浑身解数，终于打开了庙门，逃出了这个恐怖的地方。从此以后，他们再也不敢提及这个庙宇和女鬼的传说，也对恐怖故事敬而远之。\n",
      "\n",
      "这个故事警示人们，有些神秘的事物还是不要去触碰为好，以免招来不必要的麻烦。\n"
     ]
    }
   ],
   "execution_count": 19
  },
  {
   "metadata": {
    "ExecuteTime": {
     "end_time": "2025-07-14T07:23:49.841325Z",
     "start_time": "2025-07-14T07:23:35.408929Z"
    }
   },
   "cell_type": "code",
   "source": [
    "from langchain_community.chat_models import ChatZhipuAI\n",
    "from langchain_core.prompts import ChatPromptTemplate,HumanMessagePromptTemplate\n",
    "from langchain_core.output_parsers import StrOutputParser\n",
    "\n",
    "chat = ChatZhipuAI(model=\"glm-4\", temperature=1.0)\n",
    "prompt = ChatPromptTemplate.from_messages([\n",
    "    (\"human\", \"请讲一个关于{topic}的恐怖故事\")\n",
    "])\n",
    "str_out = StrOutputParser()\n",
    "\n",
    "chain = prompt | chat | str_out\n",
    "\n",
    "try:\n",
    "    response = chain.invoke({\"topic\": \"鬼\"})\n",
    "    print(response)\n",
    "except Exception as e:\n",
    "    print(f\"发生错误: {e}\")\n"
   ],
   "id": "268567a69514e5d5",
   "outputs": [
    {
     "name": "stdout",
     "output_type": "stream",
     "text": [
      "在一个偏远的小山村，有一座废弃多年的老宅，传说那里住着一个冤魂。村子里的老人都说，这个冤魂曾是这里的一户人家的小女儿，因为在很多年前一场火灾中失去了生命，从此便附在了这座老宅里。\n",
      "\n",
      "故事的主人公小杨，是个好奇心很重的年轻人。他听说了这个传说后，决定去探险。一天夜里，月黑风高，小杨带着手电筒来到了这座废弃的老宅。\n",
      "\n",
      "宅子的门半开着，小杨小心翼翼地推开门走了进去。一股阴冷的气息扑面而来，他不禁打了个寒颤。宅子里弥漫着一股霉味，墙壁上布满了蜘蛛网。小杨踩着嘎吱作响的地板，一步步向里走去。\n",
      "\n",
      "突然，他听到了一阵凄厉的哭声，声音从一个房间传了出来。小杨心头一紧，但还是鼓起勇气推开了房门。房间内空无一人，哭声却愈发清晰。这时，小杨发现墙角有一个破旧的娃娃，娃娃的眼睛突然闪烁着诡异的红光。\n",
      "\n",
      "他正准备仔细查看，突然感觉背后有一阵冷风吹过。小杨转身一看，只见一个白衣女子缓缓地从门外飘了进来。她的脸色苍白，眼睛里充满了怨恨。小杨吓得魂飞魄散，想要逃跑，但脚像是被钉住了一样，动弹不得。\n",
      "\n",
      "白衣女子慢慢靠近，凄厉的哭声在耳边回荡。她伸出手，想要抓住小杨。就在这千钧一发之际，小杨猛地想起老人曾说，鬼魂怕阳气，于是他咬破手指，将鲜血涂在眼睛上，大声喊道：“我是阳气之人，速速退去！”\n",
      "\n",
      "瞬间，白衣女子的身影消失得无影无踪，凄厉的哭声也随之停止。小杨趁机逃离了老宅，从此再也不敢靠近。而村子里的老人说，那冤魂已经被小杨的阳气所驱散，再也不敢为非作歹。\n",
      "\n",
      "这个故事告诫我们，不要轻易去触碰那些未知的事物，好奇心有时会带来意想不到的麻烦。同时，也让我们了解到，阳气可以驱散鬼魂，守护我们的平安。\n"
     ]
    }
   ],
   "execution_count": 27
  },
  {
   "metadata": {
    "ExecuteTime": {
     "end_time": "2025-07-14T07:52:14.673069Z",
     "start_time": "2025-07-14T07:52:13.716452Z"
    }
   },
   "cell_type": "code",
   "source": [
    "from langchain_community.chat_models import ChatZhipuAI\n",
    "from langchain_core.prompts import ChatPromptTemplate,HumanMessagePromptTemplate\n",
    "from langchain_core.output_parsers import StrOutputParser\n",
    "from langchain_core.messages import SystemMessage,HumanMessage,AIMessage\n",
    "\n",
    "chat = ChatZhipuAI(model=\"glm-4\", temperature=1.0)\n",
    "# prompt = ChatPromptTemplate.from_messages([\n",
    "#     (\"system\",\"你是一位{exp}专家，你只能回答{exp}问题，如果不是此类问题，请回答我不知道\"),\n",
    "#     (\"human\", \"请回答以下问题:{text}\")\n",
    "# ])\n",
    "\n",
    "\n",
    "prompt = ChatPromptTemplate.from_messages([\n",
    "    SystemMessagePromptTemplate.from_template(\"你是一位{exp}专家，你只能回答{exp}问题，如果不是此类问题，请回答No\"),\n",
    "    HumanMessagePromptTemplate.from_template(\"请回答以下问题:{text}\")\n",
    "])\n",
    "\n",
    "str_out = StrOutputParser()\n",
    "\n",
    "\n",
    "p = prompt.partial(exp=\"数学\")\n",
    "chain = p | chat | str_out\n",
    "\n",
    "try:\n",
    "    response = chain.invoke({\"text\": \"你是男的女的\"})\n",
    "    print(response)\n",
    "except Exception as e:\n",
    "    print(f\"发生错误: {e}\")\n"
   ],
   "id": "21ec193b69865553",
   "outputs": [
    {
     "name": "stdout",
     "output_type": "stream",
     "text": [
      "No\n"
     ]
    }
   ],
   "execution_count": 43
  },
  {
   "metadata": {
    "ExecuteTime": {
     "end_time": "2025-07-14T08:08:28.900601Z",
     "start_time": "2025-07-14T08:08:27.339017Z"
    }
   },
   "cell_type": "code",
   "source": [
    "from langchain_community.chat_models import ChatZhipuAI\n",
    "from langchain_core.prompts import ChatPromptTemplate,HumanMessagePromptTemplate\n",
    "from langchain_core.output_parsers import StrOutputParser\n",
    "from langchain_core.messages import SystemMessage,HumanMessage,ChatMessage\n",
    "\n",
    "chat = ChatZhipuAI(model=\"glm-4\", temperature=1.0)\n",
    "prompt = ChatPromptTemplate.from_messages([\n",
    "    SystemMessage(content=\"你是一位数学专家，你只能回答数学问题，如果不是此类问题，请回答我不知道\"),\n",
    "    HumanMessagePromptTemplate.from_template(\"请回答以下问题:{text}\")\n",
    "])\n",
    "\n",
    "# str_out = StrOutputParser()\n",
    "#\n",
    "chain =prompt| chat | StrOutputParser()\n",
    "\n",
    "try:\n",
    "    response = chain.invoke({\"text\": \"明天星期几\"})\n",
    "    print(response)\n",
    "except Exception as e:\n",
    "    print(f\"发生错误: {e}\")"
   ],
   "id": "72296b8e93026480",
   "outputs": [
    {
     "name": "stdout",
     "output_type": "stream",
     "text": [
      "我不知道。这个问题与数学无关。如果您有数学方面的问题，我会很乐意帮助您解答。\n"
     ]
    }
   ],
   "execution_count": 62
  },
  {
   "metadata": {
    "ExecuteTime": {
     "end_time": "2025-07-14T09:30:26.828324Z",
     "start_time": "2025-07-14T09:30:19.559943Z"
    }
   },
   "cell_type": "code",
   "source": [
    "from langchain_community.chat_models import ChatZhipuAI\n",
    "from langchain_core.prompts import ChatPromptTemplate,MessagesPlaceholder\n",
    "from langchain_core.output_parsers import StrOutputParser\n",
    "from langchain_core.messages import SystemMessage,HumanMessage,ChatMessage\n",
    "from langchain.memory import ConversationBufferMemory\n",
    "from langchain.chains import LLMChain,ConversationChain\n",
    "\n",
    "chat = ChatZhipuAI(model=\"glm-4\", temperature=1.0)\n",
    "\n",
    "memory = ConversationBufferMemory(   memory_key=\"history\",  # 修改为ConversationChain期望的key\n",
    "    input_key=\"input\" , return_messages=True)\n",
    "\n",
    "prompt = ChatPromptTemplate.from_messages(\n",
    "    [\n",
    "        (\n",
    "            \"system\",\n",
    "            \"You are a helpful assistant. Answer all questions to the best of your ability.\",\n",
    "        ),\n",
    "        MessagesPlaceholder(variable_name=\"messages\"),\n",
    "    ]\n",
    ")\n",
    "\n",
    "conversation = ConversationChain(\n",
    "    llm=chat,\n",
    "    verbose=True,\n",
    "    memory=memory\n",
    ")\n",
    "\n",
    "input = [\n",
    "    \"明天星期几\",\n",
    "    \"你叫什么名字\",\n",
    "    \"你今年几岁了\",\n",
    "    \"1+1\",\n",
    "    \"5+3\"\n",
    "]\n",
    "\n",
    "# for i in input:\n",
    "#     response = conversation.predict(text=i)\n",
    "#     print(response)\n",
    "\n",
    "\n",
    "response = conversation.predict(input=\"我今年10岁\")\n",
    "print(response)\n",
    "print(\"*\"*20)\n",
    "\n",
    "response = conversation.predict(input=\"我上一句说的啥\")\n",
    "\n",
    "print(response)\n",
    "\n",
    "print(\"*\"*20)\n",
    "\n",
    "\n",
    "response = conversation.predict(input=\"再过十年我几岁\")\n",
    "\n",
    "print(response)\n",
    "\n",
    "print(\"记忆内容\")\n",
    "\n",
    "print(memory.load_memory_variables({}))\n",
    "\n"
   ],
   "id": "c2ee69023453f8d",
   "outputs": [
    {
     "name": "stdout",
     "output_type": "stream",
     "text": [
      "\n",
      "\n",
      "\u001B[1m> Entering new ConversationChain chain...\u001B[0m\n",
      "Prompt after formatting:\n",
      "\u001B[32;1m\u001B[1;3mThe following is a friendly conversation between a human and an AI. The AI is talkative and provides lots of specific details from its context. If the AI does not know the answer to a question, it truthfully says it does not know.\n",
      "\n",
      "Current conversation:\n",
      "[]\n",
      "Human: 我今年10岁\n",
      "AI:\u001B[0m\n",
      "\n",
      "\u001B[1m> Finished chain.\u001B[0m\n",
      "AI: 哇，10岁正是探索世界和学习新事物的好年纪！你最喜欢学校的哪个科目呢？有没有什么特别感兴趣的话题？我们可以一起聊聊。\n",
      "********************\n",
      "\n",
      "\n",
      "\u001B[1m> Entering new ConversationChain chain...\u001B[0m\n",
      "Prompt after formatting:\n",
      "\u001B[32;1m\u001B[1;3mThe following is a friendly conversation between a human and an AI. The AI is talkative and provides lots of specific details from its context. If the AI does not know the answer to a question, it truthfully says it does not know.\n",
      "\n",
      "Current conversation:\n",
      "[HumanMessage(content='我今年10岁', additional_kwargs={}, response_metadata={}), AIMessage(content='AI: 哇，10岁正是探索世界和学习新事物的好年纪！你最喜欢学校的哪个科目呢？有没有什么特别感兴趣的话题？我们可以一起聊聊。', additional_kwargs={}, response_metadata={})]\n",
      "Human: 我上一句说的啥\n",
      "AI:\u001B[0m\n",
      "\n",
      "\u001B[1m> Finished chain.\u001B[0m\n",
      "你刚才说你今年10岁。如果你需要我重复之前的话，我可以这样做：哇，10岁正是探索世界和学习新事物的好年纪！我问我你最喜欢学校的哪个科目，还有没有特别感兴趣的话题，我们可以一起聊聊。有什么是你想继续探讨的吗？\n",
      "********************\n",
      "\n",
      "\n",
      "\u001B[1m> Entering new ConversationChain chain...\u001B[0m\n",
      "Prompt after formatting:\n",
      "\u001B[32;1m\u001B[1;3mThe following is a friendly conversation between a human and an AI. The AI is talkative and provides lots of specific details from its context. If the AI does not know the answer to a question, it truthfully says it does not know.\n",
      "\n",
      "Current conversation:\n",
      "[HumanMessage(content='我今年10岁', additional_kwargs={}, response_metadata={}), AIMessage(content='AI: 哇，10岁正是探索世界和学习新事物的好年纪！你最喜欢学校的哪个科目呢？有没有什么特别感兴趣的话题？我们可以一起聊聊。', additional_kwargs={}, response_metadata={}), HumanMessage(content='我上一句说的啥', additional_kwargs={}, response_metadata={}), AIMessage(content='你刚才说你今年10岁。如果你需要我重复之前的话，我可以这样做：哇，10岁正是探索世界和学习新事物的好年纪！我问我你最喜欢学校的哪个科目，还有没有特别感兴趣的话题，我们可以一起聊聊。有什么是你想继续探讨的吗？', additional_kwargs={}, response_metadata={})]\n",
      "Human: 再过十年我几岁\n",
      "AI:\u001B[0m\n",
      "\n",
      "\u001B[1m> Finished chain.\u001B[0m\n",
      "再过十年，你将会是20岁。那是成年的里程碑，你将会进入一个新的生活阶段，拥有更多的机会和挑战。有什么计划或者梦想吗？你想成为怎样的人呢？我们可以一起分享你的想法。\n",
      "记忆内容\n",
      "{'history': [HumanMessage(content='我今年10岁', additional_kwargs={}, response_metadata={}), AIMessage(content='AI: 哇，10岁正是探索世界和学习新事物的好年纪！你最喜欢学校的哪个科目呢？有没有什么特别感兴趣的话题？我们可以一起聊聊。', additional_kwargs={}, response_metadata={}), HumanMessage(content='我上一句说的啥', additional_kwargs={}, response_metadata={}), AIMessage(content='你刚才说你今年10岁。如果你需要我重复之前的话，我可以这样做：哇，10岁正是探索世界和学习新事物的好年纪！我问我你最喜欢学校的哪个科目，还有没有特别感兴趣的话题，我们可以一起聊聊。有什么是你想继续探讨的吗？', additional_kwargs={}, response_metadata={}), HumanMessage(content='再过十年我几岁', additional_kwargs={}, response_metadata={}), AIMessage(content='再过十年，你将会是20岁。那是成年的里程碑，你将会进入一个新的生活阶段，拥有更多的机会和挑战。有什么计划或者梦想吗？你想成为怎样的人呢？我们可以一起分享你的想法。', additional_kwargs={}, response_metadata={})]}\n"
     ]
    }
   ],
   "execution_count": 109
  },
  {
   "metadata": {
    "ExecuteTime": {
     "end_time": "2025-07-14T08:39:17.673792Z",
     "start_time": "2025-07-14T08:39:08.584339Z"
    }
   },
   "cell_type": "code",
   "source": [
    "from langchain_community.chat_models import ChatZhipuAI\n",
    "from langchain_core.prompts import ChatPromptTemplate,HumanMessagePromptTemplate\n",
    "from langchain_core.output_parsers import StrOutputParser\n",
    "from langchain_core.messages import SystemMessage,HumanMessage,ChatMessage\n",
    "from langchain.memory import ConversationBufferMemory,ConversationBufferWindowMemory\n",
    "from langchain.chains import LLMChain\n",
    "\n",
    "chat = ChatZhipuAI(model=\"glm-4\", temperature=1.0)\n",
    "\n",
    "# 新版本推荐写法\n",
    "memory = ConversationBufferWindowMemory(\n",
    "    k=2,  # 保留最近2轮对话\n",
    "    memory_key=\"memory\",\n",
    "    return_messages=True,\n",
    "    input_key=\"text\"\n",
    ")\n",
    "\n",
    "prompt = ChatPromptTemplate.from_messages([\n",
    "    SystemMessage(content=\"你是一位数学专家，你只能回答数学问题，如果不是此类问题，请回答我不知道\"),\n",
    "    HumanMessagePromptTemplate.from_template(\"请回答以下问题:{text}\")\n",
    "])\n",
    "\n",
    "conversation = LLMChain(\n",
    "    llm=chat,\n",
    "    prompt=prompt,\n",
    "    memory=memory,\n",
    "    verbose=True\n",
    ")\n",
    "\n",
    "input = [\n",
    "    \"明天星期几\",\n",
    "    \"你叫什么名字\",\n",
    "    \"你今年几岁了\",\n",
    "    \"1+1\",\n",
    "    \"5+3\"\n",
    "]\n",
    "\n",
    "for i in input:\n",
    "    response = conversation.predict(text=i)\n",
    "    print(response)\n",
    "\n",
    "\n",
    "print(\"记忆内容\")\n",
    "\n",
    "print(memory.load_memory_variables({}))"
   ],
   "id": "c142a79c4710ddfa",
   "outputs": [
    {
     "name": "stdout",
     "output_type": "stream",
     "text": [
      "\n",
      "\n",
      "\u001B[1m> Entering new LLMChain chain...\u001B[0m\n",
      "Prompt after formatting:\n",
      "\u001B[32;1m\u001B[1;3mSystem: 你是一位数学专家，你只能回答数学问题，如果不是此类问题，请回答我不知道\n",
      "Human: 请回答以下问题:明天星期几\u001B[0m\n",
      "\n",
      "\u001B[1m> Finished chain.\u001B[0m\n",
      "我不知道。我作为数学专家，只能回答数学相关的问题。关于日期和星期的问题通常不属于数学领域，除非它涉及到特定的数学算法或概念（比如日历的计算）。如果您有数学方面的问题，我会很乐意帮助您解答。\n",
      "\n",
      "\n",
      "\u001B[1m> Entering new LLMChain chain...\u001B[0m\n",
      "Prompt after formatting:\n",
      "\u001B[32;1m\u001B[1;3mSystem: 你是一位数学专家，你只能回答数学问题，如果不是此类问题，请回答我不知道\n",
      "Human: 请回答以下问题:你叫什么名字\u001B[0m\n",
      "\n",
      "\u001B[1m> Finished chain.\u001B[0m\n",
      "我不知道。如果您有数学问题需要解答，请随时提问。\n",
      "\n",
      "\n",
      "\u001B[1m> Entering new LLMChain chain...\u001B[0m\n",
      "Prompt after formatting:\n",
      "\u001B[32;1m\u001B[1;3mSystem: 你是一位数学专家，你只能回答数学问题，如果不是此类问题，请回答我不知道\n",
      "Human: 请回答以下问题:你今年几岁了\u001B[0m\n",
      "\n",
      "\u001B[1m> Finished chain.\u001B[0m\n",
      "我不知道。我是一款人工智能助手，没有年龄。如果您有数学问题，欢迎提问，我会尽力帮助您解答。\n",
      "\n",
      "\n",
      "\u001B[1m> Entering new LLMChain chain...\u001B[0m\n",
      "Prompt after formatting:\n",
      "\u001B[32;1m\u001B[1;3mSystem: 你是一位数学专家，你只能回答数学问题，如果不是此类问题，请回答我不知道\n",
      "Human: 请回答以下问题:1+1\u001B[0m\n",
      "\n",
      "\u001B[1m> Finished chain.\u001B[0m\n",
      "2\n",
      "\n",
      "\n",
      "\u001B[1m> Entering new LLMChain chain...\u001B[0m\n",
      "Prompt after formatting:\n",
      "\u001B[32;1m\u001B[1;3mSystem: 你是一位数学专家，你只能回答数学问题，如果不是此类问题，请回答我不知道\n",
      "Human: 请回答以下问题:5+3\u001B[0m\n",
      "\n",
      "\u001B[1m> Finished chain.\u001B[0m\n",
      "5+3=8。\n",
      "记忆内容\n",
      "{'memory': [HumanMessage(content='1+1', additional_kwargs={}, response_metadata={}), AIMessage(content='2', additional_kwargs={}, response_metadata={}), HumanMessage(content='5+3', additional_kwargs={}, response_metadata={}), AIMessage(content='5+3=8。', additional_kwargs={}, response_metadata={})]}\n"
     ]
    }
   ],
   "execution_count": 74
  },
  {
   "metadata": {
    "ExecuteTime": {
     "end_time": "2025-07-14T08:50:52.751714Z",
     "start_time": "2025-07-14T08:50:51.207256Z"
    }
   },
   "cell_type": "code",
   "source": [
    "from langchain_community.chat_models import ChatZhipuAI\n",
    "from langchain.chains import LLMChain\n",
    "from langchain_core.prompts import PromptTemplate\n",
    "\n",
    "# 1. 定义内存（显式指定输入输出键）\n",
    "memory = ConversationBufferMemory(\n",
    "    memory_key=\"history\",\n",
    "    input_key=\"human_input\",  # 输入键\n",
    "    # output_key=\"ai_output\",   # 输出键\n",
    "    return_messages=True\n",
    ")\n",
    "\n",
    "# 2. 创建提示模板（变量名需匹配）\n",
    "template = \"\"\"基于对话历史回答问题：\n",
    "{history}\n",
    "用户输入: {human_input}\n",
    "AI回复:\"\"\"\n",
    "prompt = PromptTemplate(\n",
    "    input_variables=[\"history\", \"human_input\"],\n",
    "    template=template\n",
    ")\n",
    "\n",
    "# 3. 创建链\n",
    "llm = ChatZhipuAI()\n",
    "chain = LLMChain(\n",
    "    llm=llm,\n",
    "    prompt=prompt,\n",
    "    memory=memory,\n",
    "    verbose=False\n",
    ")\n",
    "\n",
    "# 4. 运行时会自动按指定键名存储\n",
    "result = chain.predict(human_input=\"你好\")\n",
    "print(result)  # AI回复内容\n",
    "print(memory.load_memory_variables({}))\n",
    "# 输出将包含：\n",
    "# {'history': [HumanMessage(content='你好'), AIMessage(content='...')]}\n"
   ],
   "id": "cd8fa15723f3397c",
   "outputs": [
    {
     "name": "stdout",
     "output_type": "stream",
     "text": [
      "你好！有什么可以帮助你的吗？如果有任何问题或者需要咨询的事情，请随时告诉我。\n",
      "{'history': [HumanMessage(content='你好', additional_kwargs={}, response_metadata={}), AIMessage(content='你好！有什么可以帮助你的吗？如果有任何问题或者需要咨询的事情，请随时告诉我。', additional_kwargs={}, response_metadata={})]}\n"
     ]
    }
   ],
   "execution_count": 83
  },
  {
   "metadata": {
    "ExecuteTime": {
     "end_time": "2025-07-14T09:00:23.307081Z",
     "start_time": "2025-07-14T08:59:59.577554Z"
    }
   },
   "cell_type": "code",
   "source": [
    "from langchain_community.chat_models import ChatZhipuAI\n",
    "from langchain_core.prompts import ChatPromptTemplate,HumanMessagePromptTemplate\n",
    "from langchain_core.output_parsers import StrOutputParser\n",
    "from langchain_core.messages import SystemMessage,HumanMessage,ChatMessage\n",
    "from langchain.memory import ConversationSummaryBufferMemory,ConversationSummaryMemory\n",
    "from langchain.chains import LLMChain\n",
    "\n",
    "chat = ChatZhipuAI(model=\"glm-4\", temperature=1.0)\n",
    "\n",
    "# 新版本推荐写法\n",
    "memory = ConversationSummaryMemory(\n",
    "    llm = ChatZhipuAI()\n",
    ")\n",
    "\n",
    "prompt = ChatPromptTemplate.from_messages([\n",
    "    SystemMessage(content=\"你是一位数学专家，你只能回答数学问题，如果不是此类问题，请回答我不知道\"),\n",
    "    HumanMessagePromptTemplate.from_template(\"请回答以下问题:{text}\")\n",
    "])\n",
    "\n",
    "conversation = LLMChain(\n",
    "    llm=chat,\n",
    "    prompt=prompt,\n",
    "    memory=memory,\n",
    "    verbose=True\n",
    ")\n",
    "\n",
    "input = [\n",
    "    \"明天星期几\",\n",
    "    \"你叫什么名字\",\n",
    "    \"你今年几岁了\",\n",
    "    \"1+1\",\n",
    "    \"5+3\"\n",
    "]\n",
    "\n",
    "for i in input:\n",
    "    response = conversation.predict(text=i)\n",
    "    print(response)\n",
    "\n",
    "\n",
    "print(\"记忆内容\")\n",
    "\n",
    "print(memory.load_memory_variables({}))"
   ],
   "id": "fcba87f890007e07",
   "outputs": [
    {
     "name": "stderr",
     "output_type": "stream",
     "text": [
      "C:\\Users\\Administrator\\AppData\\Local\\Temp\\ipykernel_29312\\1053839305.py:11: LangChainDeprecationWarning: Please see the migration guide at: https://python.langchain.com/docs/versions/migrating_memory/\n",
      "  memory = ConversationSummaryMemory(\n"
     ]
    },
    {
     "name": "stdout",
     "output_type": "stream",
     "text": [
      "\n",
      "\n",
      "\u001B[1m> Entering new LLMChain chain...\u001B[0m\n",
      "Prompt after formatting:\n",
      "\u001B[32;1m\u001B[1;3mSystem: 你是一位数学专家，你只能回答数学问题，如果不是此类问题，请回答我不知道\n",
      "Human: 请回答以下问题:明天星期几\u001B[0m\n",
      "\n",
      "\u001B[1m> Finished chain.\u001B[0m\n",
      "我不知道。我是一个数学专家，只能回答数学问题。关于日期或星期的问题通常不属于数学问题的范畴。如果您有数学方面的问题，我会很乐意帮助您解答。\n",
      "\n",
      "\n",
      "\u001B[1m> Entering new LLMChain chain...\u001B[0m\n",
      "Prompt after formatting:\n",
      "\u001B[32;1m\u001B[1;3mSystem: 你是一位数学专家，你只能回答数学问题，如果不是此类问题，请回答我不知道\n",
      "Human: 请回答以下问题:你叫什么名字\u001B[0m\n",
      "\n",
      "\u001B[1m> Finished chain.\u001B[0m\n",
      "我不知道。如果您有数学问题需要解答，请随时提出。\n",
      "\n",
      "\n",
      "\u001B[1m> Entering new LLMChain chain...\u001B[0m\n",
      "Prompt after formatting:\n",
      "\u001B[32;1m\u001B[1;3mSystem: 你是一位数学专家，你只能回答数学问题，如果不是此类问题，请回答我不知道\n",
      "Human: 请回答以下问题:你今年几岁了\u001B[0m\n",
      "\n",
      "\u001B[1m> Finished chain.\u001B[0m\n",
      "我不知道。我是一款人工智能助手，没有年龄。如果你有数学问题，欢迎提问。\n",
      "\n",
      "\n",
      "\u001B[1m> Entering new LLMChain chain...\u001B[0m\n",
      "Prompt after formatting:\n",
      "\u001B[32;1m\u001B[1;3mSystem: 你是一位数学专家，你只能回答数学问题，如果不是此类问题，请回答我不知道\n",
      "Human: 请回答以下问题:1+1\u001B[0m\n",
      "\n",
      "\u001B[1m> Finished chain.\u001B[0m\n",
      "1+1 等于 2。\n",
      "\n",
      "\n",
      "\u001B[1m> Entering new LLMChain chain...\u001B[0m\n",
      "Prompt after formatting:\n",
      "\u001B[32;1m\u001B[1;3mSystem: 你是一位数学专家，你只能回答数学问题，如果不是此类问题，请回答我不知道\n",
      "Human: 请回答以下问题:5+3\u001B[0m\n",
      "\n",
      "\u001B[1m> Finished chain.\u001B[0m\n",
      "5+3=8。\n",
      "记忆内容\n",
      "{'history': \"The human inquires about the day of the week, the AI's name, and age, but the AI maintains it is ageless and dedicated to math-related questions. This is evident as the AI first solves 1+1 correctly and then, in the continuation, solves 5+3, stating the answer is 8.\"}\n"
     ]
    }
   ],
   "execution_count": 88
  },
  {
   "metadata": {
    "ExecuteTime": {
     "end_time": "2025-07-14T09:39:47.904807Z",
     "start_time": "2025-07-14T09:39:47.815559Z"
    }
   },
   "cell_type": "code",
   "source": [
    "from langchain_community.chat_models import ChatZhipuAI\n",
    "from langchain_core.prompts import ChatPromptTemplate,HumanMessagePromptTemplate\n",
    "from langchain_core.output_parsers import StrOutputParser\n",
    "from langchain_core.messages import SystemMessage,HumanMessage,ChatMessage\n",
    "from langchain.memory import ConversationEntityMemory,ConversationBufferMemory\n",
    "from langchain.chains import LLMChain,ConversationChain\n",
    "\n",
    "chat = ChatZhipuAI(model=\"glm-4\", temperature=1.0)\n",
    "\n",
    "memory = ConversationEntityMemory(\n",
    "    llm = chat\n",
    "\n",
    ")\n",
    "\n",
    "\n",
    "conversation = ConversationChain(\n",
    "    llm=chat,\n",
    "    memory=memory,\n",
    "    verbose=True\n",
    ")\n",
    "\n",
    "response = conversation.predict(input=\"我今年10岁\")\n",
    "\n",
    "print(response)\n",
    "print(\"*\"*10)\n",
    "\n",
    "response = conversation.predict(input=\"我上一句说的啥\")\n",
    "print(response)\n",
    "\n",
    "print(\"记忆内容\")\n",
    "\n",
    "print(memory.entity_store.store)"
   ],
   "id": "f25c5063e8d0955f",
   "outputs": [
    {
     "ename": "ValidationError",
     "evalue": "1 validation error for ConversationChain\n  Value error, Got unexpected prompt input variables. The prompt expects ['history', 'input'], but got ['entities', 'history'] as inputs from memory, and input as the normal input key. [type=value_error, input_value={'llm': ChatZhipuAI(zhipu...e={})), 'verbose': True}, input_type=dict]\n    For further information visit https://errors.pydantic.dev/2.11/v/value_error",
     "output_type": "error",
     "traceback": [
      "\u001B[31m---------------------------------------------------------------------------\u001B[39m",
      "\u001B[31mValidationError\u001B[39m                           Traceback (most recent call last)",
      "\u001B[36mCell\u001B[39m\u001B[36m \u001B[39m\u001B[32mIn[115]\u001B[39m\u001B[32m, line 16\u001B[39m\n\u001B[32m      8\u001B[39m chat = ChatZhipuAI(model=\u001B[33m\"\u001B[39m\u001B[33mglm-4\u001B[39m\u001B[33m\"\u001B[39m, temperature=\u001B[32m1.0\u001B[39m)\n\u001B[32m     10\u001B[39m memory = ConversationEntityMemory(\n\u001B[32m     11\u001B[39m     llm = chat\n\u001B[32m     12\u001B[39m \n\u001B[32m     13\u001B[39m )\n\u001B[32m---> \u001B[39m\u001B[32m16\u001B[39m conversation = \u001B[43mConversationChain\u001B[49m\u001B[43m(\u001B[49m\n\u001B[32m     17\u001B[39m \u001B[43m    \u001B[49m\u001B[43mllm\u001B[49m\u001B[43m=\u001B[49m\u001B[43mchat\u001B[49m\u001B[43m,\u001B[49m\n\u001B[32m     18\u001B[39m \u001B[43m    \u001B[49m\u001B[43mmemory\u001B[49m\u001B[43m=\u001B[49m\u001B[43mmemory\u001B[49m\u001B[43m,\u001B[49m\n\u001B[32m     19\u001B[39m \u001B[43m    \u001B[49m\u001B[43mverbose\u001B[49m\u001B[43m=\u001B[49m\u001B[38;5;28;43;01mTrue\u001B[39;49;00m\n\u001B[32m     20\u001B[39m \u001B[43m)\u001B[49m\n\u001B[32m     22\u001B[39m response = conversation.predict(\u001B[38;5;28minput\u001B[39m=\u001B[33m\"\u001B[39m\u001B[33m我今年10岁\u001B[39m\u001B[33m\"\u001B[39m)\n\u001B[32m     24\u001B[39m \u001B[38;5;28mprint\u001B[39m(response)\n",
      "\u001B[36mFile \u001B[39m\u001B[32mF:\\project\\AiAgentTest\\.venv\\Lib\\site-packages\\langchain_core\\_api\\deprecation.py:222\u001B[39m, in \u001B[36mdeprecated.<locals>.deprecate.<locals>.finalize.<locals>.warn_if_direct_instance\u001B[39m\u001B[34m(self, *args, **kwargs)\u001B[39m\n\u001B[32m    220\u001B[39m     warned = \u001B[38;5;28;01mTrue\u001B[39;00m\n\u001B[32m    221\u001B[39m     emit_warning()\n\u001B[32m--> \u001B[39m\u001B[32m222\u001B[39m \u001B[38;5;28;01mreturn\u001B[39;00m \u001B[43mwrapped\u001B[49m\u001B[43m(\u001B[49m\u001B[38;5;28;43mself\u001B[39;49m\u001B[43m,\u001B[49m\u001B[43m \u001B[49m\u001B[43m*\u001B[49m\u001B[43margs\u001B[49m\u001B[43m,\u001B[49m\u001B[43m \u001B[49m\u001B[43m*\u001B[49m\u001B[43m*\u001B[49m\u001B[43mkwargs\u001B[49m\u001B[43m)\u001B[49m\n",
      "\u001B[36mFile \u001B[39m\u001B[32mF:\\project\\AiAgentTest\\.venv\\Lib\\site-packages\\langchain_core\\_api\\deprecation.py:222\u001B[39m, in \u001B[36mdeprecated.<locals>.deprecate.<locals>.finalize.<locals>.warn_if_direct_instance\u001B[39m\u001B[34m(self, *args, **kwargs)\u001B[39m\n\u001B[32m    220\u001B[39m     warned = \u001B[38;5;28;01mTrue\u001B[39;00m\n\u001B[32m    221\u001B[39m     emit_warning()\n\u001B[32m--> \u001B[39m\u001B[32m222\u001B[39m \u001B[38;5;28;01mreturn\u001B[39;00m \u001B[43mwrapped\u001B[49m\u001B[43m(\u001B[49m\u001B[38;5;28;43mself\u001B[39;49m\u001B[43m,\u001B[49m\u001B[43m \u001B[49m\u001B[43m*\u001B[49m\u001B[43margs\u001B[49m\u001B[43m,\u001B[49m\u001B[43m \u001B[49m\u001B[43m*\u001B[49m\u001B[43m*\u001B[49m\u001B[43mkwargs\u001B[49m\u001B[43m)\u001B[49m\n",
      "\u001B[36mFile \u001B[39m\u001B[32mF:\\project\\AiAgentTest\\.venv\\Lib\\site-packages\\langchain_core\\load\\serializable.py:130\u001B[39m, in \u001B[36mSerializable.__init__\u001B[39m\u001B[34m(self, *args, **kwargs)\u001B[39m\n\u001B[32m    128\u001B[39m \u001B[38;5;28;01mdef\u001B[39;00m\u001B[38;5;250m \u001B[39m\u001B[34m__init__\u001B[39m(\u001B[38;5;28mself\u001B[39m, *args: Any, **kwargs: Any) -> \u001B[38;5;28;01mNone\u001B[39;00m:\n\u001B[32m    129\u001B[39m \u001B[38;5;250m    \u001B[39m\u001B[33;03m\"\"\"\"\"\"\u001B[39;00m  \u001B[38;5;66;03m# noqa: D419\u001B[39;00m\n\u001B[32m--> \u001B[39m\u001B[32m130\u001B[39m     \u001B[38;5;28;43msuper\u001B[39;49m\u001B[43m(\u001B[49m\u001B[43m)\u001B[49m\u001B[43m.\u001B[49m\u001B[34;43m__init__\u001B[39;49m\u001B[43m(\u001B[49m\u001B[43m*\u001B[49m\u001B[43margs\u001B[49m\u001B[43m,\u001B[49m\u001B[43m \u001B[49m\u001B[43m*\u001B[49m\u001B[43m*\u001B[49m\u001B[43mkwargs\u001B[49m\u001B[43m)\u001B[49m\n",
      "\u001B[36mFile \u001B[39m\u001B[32mF:\\project\\AiAgentTest\\.venv\\Lib\\site-packages\\pydantic\\main.py:253\u001B[39m, in \u001B[36mBaseModel.__init__\u001B[39m\u001B[34m(self, **data)\u001B[39m\n\u001B[32m    251\u001B[39m \u001B[38;5;66;03m# `__tracebackhide__` tells pytest and some other tools to omit this function from tracebacks\u001B[39;00m\n\u001B[32m    252\u001B[39m __tracebackhide__ = \u001B[38;5;28;01mTrue\u001B[39;00m\n\u001B[32m--> \u001B[39m\u001B[32m253\u001B[39m validated_self = \u001B[38;5;28;43mself\u001B[39;49m\u001B[43m.\u001B[49m\u001B[43m__pydantic_validator__\u001B[49m\u001B[43m.\u001B[49m\u001B[43mvalidate_python\u001B[49m\u001B[43m(\u001B[49m\u001B[43mdata\u001B[49m\u001B[43m,\u001B[49m\u001B[43m \u001B[49m\u001B[43mself_instance\u001B[49m\u001B[43m=\u001B[49m\u001B[38;5;28;43mself\u001B[39;49m\u001B[43m)\u001B[49m\n\u001B[32m    254\u001B[39m \u001B[38;5;28;01mif\u001B[39;00m \u001B[38;5;28mself\u001B[39m \u001B[38;5;129;01mis\u001B[39;00m \u001B[38;5;129;01mnot\u001B[39;00m validated_self:\n\u001B[32m    255\u001B[39m     warnings.warn(\n\u001B[32m    256\u001B[39m         \u001B[33m'\u001B[39m\u001B[33mA custom validator is returning a value other than `self`.\u001B[39m\u001B[38;5;130;01m\\n\u001B[39;00m\u001B[33m'\u001B[39m\n\u001B[32m    257\u001B[39m         \u001B[33m\"\u001B[39m\u001B[33mReturning anything other than `self` from a top level model validator isn\u001B[39m\u001B[33m'\u001B[39m\u001B[33mt supported when validating via `__init__`.\u001B[39m\u001B[38;5;130;01m\\n\u001B[39;00m\u001B[33m\"\u001B[39m\n\u001B[32m    258\u001B[39m         \u001B[33m'\u001B[39m\u001B[33mSee the `model_validator` docs (https://docs.pydantic.dev/latest/concepts/validators/#model-validators) for more details.\u001B[39m\u001B[33m'\u001B[39m,\n\u001B[32m    259\u001B[39m         stacklevel=\u001B[32m2\u001B[39m,\n\u001B[32m    260\u001B[39m     )\n",
      "\u001B[31mValidationError\u001B[39m: 1 validation error for ConversationChain\n  Value error, Got unexpected prompt input variables. The prompt expects ['history', 'input'], but got ['entities', 'history'] as inputs from memory, and input as the normal input key. [type=value_error, input_value={'llm': ChatZhipuAI(zhipu...e={})), 'verbose': True}, input_type=dict]\n    For further information visit https://errors.pydantic.dev/2.11/v/value_error"
     ]
    }
   ],
   "execution_count": 115
  }
 ],
 "metadata": {
  "kernelspec": {
   "display_name": "Python 3",
   "language": "python",
   "name": "python3"
  },
  "language_info": {
   "codemirror_mode": {
    "name": "ipython",
    "version": 2
   },
   "file_extension": ".py",
   "mimetype": "text/x-python",
   "name": "python",
   "nbconvert_exporter": "python",
   "pygments_lexer": "ipython2",
   "version": "2.7.6"
  }
 },
 "nbformat": 4,
 "nbformat_minor": 5
}
