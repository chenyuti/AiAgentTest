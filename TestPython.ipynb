{
 "cells": [
  {
   "metadata": {},
   "cell_type": "markdown",
   "source": "模糊匹配   match 类似switch case",
   "id": "4b67e0bfdb11cb85"
  },
  {
   "cell_type": "code",
   "id": "initial_id",
   "metadata": {
    "collapsed": true,
    "ExecuteTime": {
     "end_time": "2025-07-16T02:23:47.260838Z",
     "start_time": "2025-07-16T02:23:47.254232Z"
    }
   },
   "source": [
    "args = ['gcc', 'hello.c', 'world.c']\n",
    "args = ['clean']\n",
    "args = ['gcc']\n",
    "\n",
    "match args:\n",
    "    # 如果仅出现gcc，报错:\n",
    "    case ['gcc']:\n",
    "        print('gcc: missing source file(s).')\n",
    "    # 出现gcc，且至少指定了一个文件:\n",
    "    case ['gcc', file1, *files]:\n",
    "        print('gcc compile: ' + file1 + ', ' + ', '.join(files))\n",
    "    # 仅出现clean:\n",
    "    case ['clean']:\n",
    "        print('clean')\n",
    "    case _:\n",
    "        print('invalid command.')\n"
   ],
   "outputs": [
    {
     "name": "stdout",
     "output_type": "stream",
     "text": [
      "gcc: missing source file(s).\n"
     ]
    }
   ],
   "execution_count": 3
  },
  {
   "metadata": {},
   "cell_type": "markdown",
   "source": [
    "    list 可变有序集合，turple 不可变有序集合  dict 类似map （key-value） set key合集，不允许重复key ，要创建一个set，用{x,y,z,...}列出每个元素\n",
    "    返回多值：来返回值是一个tuple！但是，在语法上，返回一个tuple可以省略括号，而多个变量可以同时接收一个tuple，按位置赋给对应的值，所以，Python的函数返回多值其实就是返回一个tuple，但写起来更方便。"
   ],
   "id": "383b4c2eb3d16e59"
  },
  {
   "metadata": {},
   "cell_type": "markdown",
   "source": "默认参数：def enroll(name, gender, age=6, city='Beijing'):  ，可变参数： def calc(*numbers): ，关键字参数：def person(name, age, **kw):  关键字参数在函数内部自动组装为一个dict",
   "id": "4fdaadd3178e715"
  },
  {
   "metadata": {
    "ExecuteTime": {
     "end_time": "2025-07-16T02:43:12.097524Z",
     "start_time": "2025-07-16T02:43:12.091068Z"
    }
   },
   "cell_type": "code",
   "source": [
    "def person(name, age, **kw):\n",
    "    print('name:', name, 'age:', age, 'other:', kw)\n",
    "\n",
    "\n",
    "person('Bob', 35, city='Beijing')\n",
    "\n",
    "person('Adam', 45, gender='M', job='Engineer',city='Beijing')\n",
    "\n",
    "extra = {'city': 'Beijing', 'job': 'Engineer'}\n",
    "# person('Jack', 24, city=extra['city'], job=extra['job'])\n",
    "person('Jack', 24, **extra)"
   ],
   "id": "355ff7783ab3cb7a",
   "outputs": [
    {
     "name": "stdout",
     "output_type": "stream",
     "text": [
      "name: Bob age: 35 other: {'city': 'Beijing'}\n",
      "name: Adam age: 45 other: {'gender': 'M', 'job': 'Engineer', 'city': 'Beijing'}\n",
      "name: Jack age: 24 other: {'city': 'Beijing', 'job': 'Engineer'}\n"
     ]
    }
   ],
   "execution_count": 6
  },
  {
   "metadata": {},
   "cell_type": "markdown",
   "source": [
    "命名关键字参数：限制关键字参数的名字，就可以用命名关键字参数，例如，只接收city和job作为关键字参数。这种方式定义的函数如下：\n",
    "def person(name, age, *, city, job):\n",
    "    print(name, age, city, job)\n"
   ],
   "id": "6fff97d158bcc386"
  },
  {
   "metadata": {
    "ExecuteTime": {
     "end_time": "2025-07-16T02:46:27.328911Z",
     "start_time": "2025-07-16T02:46:27.036994Z"
    }
   },
   "cell_type": "code",
   "source": [
    "def person(name, age, *, city, job):\n",
    "    print(name, age, city, job)\n",
    "\n",
    "person('Jack', 24, city='Beijing', job='Engineer')\n",
    "# person('Jack', 24, citys='Beijing', job='Engineer') 不行\n"
   ],
   "id": "2d1762a8e44c8e0",
   "outputs": [
    {
     "name": "stdout",
     "output_type": "stream",
     "text": [
      "Jack 24 Beijing Engineer\n"
     ]
    },
    {
     "ename": "TypeError",
     "evalue": "person() got an unexpected keyword argument 'citys'. Did you mean 'city'?",
     "output_type": "error",
     "traceback": [
      "\u001B[31m---------------------------------------------------------------------------\u001B[39m",
      "\u001B[31mTypeError\u001B[39m                                 Traceback (most recent call last)",
      "\u001B[36mCell\u001B[39m\u001B[36m \u001B[39m\u001B[32mIn[8]\u001B[39m\u001B[32m, line 5\u001B[39m\n\u001B[32m      2\u001B[39m     \u001B[38;5;28mprint\u001B[39m(name, age, city, job)\n\u001B[32m      4\u001B[39m person(\u001B[33m'\u001B[39m\u001B[33mJack\u001B[39m\u001B[33m'\u001B[39m, \u001B[32m24\u001B[39m, city=\u001B[33m'\u001B[39m\u001B[33mBeijing\u001B[39m\u001B[33m'\u001B[39m, job=\u001B[33m'\u001B[39m\u001B[33mEngineer\u001B[39m\u001B[33m'\u001B[39m)\n\u001B[32m----> \u001B[39m\u001B[32m5\u001B[39m \u001B[43mperson\u001B[49m\u001B[43m(\u001B[49m\u001B[33;43m'\u001B[39;49m\u001B[33;43mJack\u001B[39;49m\u001B[33;43m'\u001B[39;49m\u001B[43m,\u001B[49m\u001B[43m \u001B[49m\u001B[32;43m24\u001B[39;49m\u001B[43m,\u001B[49m\u001B[43m \u001B[49m\u001B[43mcitys\u001B[49m\u001B[43m=\u001B[49m\u001B[33;43m'\u001B[39;49m\u001B[33;43mBeijing\u001B[39;49m\u001B[33;43m'\u001B[39;49m\u001B[43m,\u001B[49m\u001B[43m \u001B[49m\u001B[43mjob\u001B[49m\u001B[43m=\u001B[49m\u001B[33;43m'\u001B[39;49m\u001B[33;43mEngineer\u001B[39;49m\u001B[33;43m'\u001B[39;49m\u001B[43m)\u001B[49m\n",
      "\u001B[31mTypeError\u001B[39m: person() got an unexpected keyword argument 'citys'. Did you mean 'city'?"
     ]
    }
   ],
   "execution_count": 8
  },
  {
   "metadata": {},
   "cell_type": "markdown",
   "source": [
    "如果函数定义中已经有了一个可变参数，后面跟着的命名关键字参数就不再需要一个特殊分隔符*了：\n",
    "def person(name, age, *args, city, job):\n",
    "    print(name, age, args, city, job)\n",
    "命名关键字参数可以有缺省值，从而简化调用：\n",
    "def person(name, age, *, city='Beijing', job):\n",
    "    print(name, age, city, job)\n"
   ],
   "id": "1e61e5336071d630"
  },
  {
   "metadata": {
    "ExecuteTime": {
     "end_time": "2025-07-16T02:49:31.430604Z",
     "start_time": "2025-07-16T02:49:31.404387Z"
    }
   },
   "cell_type": "code",
   "source": [
    "def person(name, age, *args, city, job):\n",
    "    print(name, age, args, city, job)\n",
    "person('Jack', 24, city='Beijing', job='Engineer')\n",
    "# person('Jack', 24, 'Beijing', 'Engineer') 不行"
   ],
   "id": "94c5edae256f3d3d",
   "outputs": [
    {
     "name": "stdout",
     "output_type": "stream",
     "text": [
      "Jack 24 () Beijing Engineer\n"
     ]
    },
    {
     "ename": "TypeError",
     "evalue": "person() missing 2 required keyword-only arguments: 'city' and 'job'",
     "output_type": "error",
     "traceback": [
      "\u001B[31m---------------------------------------------------------------------------\u001B[39m",
      "\u001B[31mTypeError\u001B[39m                                 Traceback (most recent call last)",
      "\u001B[36mCell\u001B[39m\u001B[36m \u001B[39m\u001B[32mIn[10]\u001B[39m\u001B[32m, line 4\u001B[39m\n\u001B[32m      2\u001B[39m     \u001B[38;5;28mprint\u001B[39m(name, age, args, city, job)\n\u001B[32m      3\u001B[39m person(\u001B[33m'\u001B[39m\u001B[33mJack\u001B[39m\u001B[33m'\u001B[39m, \u001B[32m24\u001B[39m, city=\u001B[33m'\u001B[39m\u001B[33mBeijing\u001B[39m\u001B[33m'\u001B[39m, job=\u001B[33m'\u001B[39m\u001B[33mEngineer\u001B[39m\u001B[33m'\u001B[39m)\n\u001B[32m----> \u001B[39m\u001B[32m4\u001B[39m \u001B[43mperson\u001B[49m\u001B[43m(\u001B[49m\u001B[33;43m'\u001B[39;49m\u001B[33;43mJack\u001B[39;49m\u001B[33;43m'\u001B[39;49m\u001B[43m,\u001B[49m\u001B[43m \u001B[49m\u001B[32;43m24\u001B[39;49m\u001B[43m,\u001B[49m\u001B[43m \u001B[49m\u001B[33;43m'\u001B[39;49m\u001B[33;43mBeijing\u001B[39;49m\u001B[33;43m'\u001B[39;49m\u001B[43m,\u001B[49m\u001B[43m \u001B[49m\u001B[33;43m'\u001B[39;49m\u001B[33;43mEngineer\u001B[39;49m\u001B[33;43m'\u001B[39;49m\u001B[43m)\u001B[49m\n",
      "\u001B[31mTypeError\u001B[39m: person() missing 2 required keyword-only arguments: 'city' and 'job'"
     ]
    }
   ],
   "execution_count": 10
  },
  {
   "metadata": {
    "ExecuteTime": {
     "end_time": "2025-07-16T02:49:48.072122Z",
     "start_time": "2025-07-16T02:49:48.065807Z"
    }
   },
   "cell_type": "code",
   "source": [
    "def person(name, age, *, city='Beijing', job):\n",
    "    print(name, age, city, job)\n",
    "person('Jack', 24, job='Engineer')"
   ],
   "id": "98fd88626ec9b5f9",
   "outputs": [
    {
     "name": "stdout",
     "output_type": "stream",
     "text": [
      "Jack 24 Beijing Engineer\n"
     ]
    }
   ],
   "execution_count": 11
  },
  {
   "metadata": {},
   "cell_type": "markdown",
   "source": [
    "参数组合\n",
    "参数定义的顺序必须是：必选参数、默认参数、可变参数、命名关键字参数和关键字参数。"
   ],
   "id": "21aaec67ccd8161c"
  }
 ],
 "metadata": {
  "kernelspec": {
   "display_name": "Python 3",
   "language": "python",
   "name": "python3"
  },
  "language_info": {
   "codemirror_mode": {
    "name": "ipython",
    "version": 2
   },
   "file_extension": ".py",
   "mimetype": "text/x-python",
   "name": "python",
   "nbconvert_exporter": "python",
   "pygments_lexer": "ipython2",
   "version": "2.7.6"
  }
 },
 "nbformat": 4,
 "nbformat_minor": 5
}
