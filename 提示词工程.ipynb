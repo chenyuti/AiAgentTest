{
 "cells": [
  {
   "metadata": {},
   "cell_type": "markdown",
   "source": [
    "1 零样本提示 2 少量样本提示  ：提示\n",
    "这太棒了！// Negative\n",
    "这太糟糕了！// Positive\n",
    "哇，那部电影太棒了！// Positive\n",
    "多么可怕的节目！//"
   ],
   "id": "2c861bee961a79fd"
  },
  {
   "metadata": {},
   "cell_type": "markdown",
   "source": [
    "Chain-of-Thought Prompting （思维链提示）：\n",
    "\n",
    "提示（将思维过程提示给llm）\n",
    "\n",
    "这组数中的奇数加起来是偶数：4、8、9、15、12、2、1。\n",
    "A：将所有奇数相加（9、15、1）得到25。答案为False。\n",
    "\n",
    "这组数中的奇数加起来是偶数：17、10、19、4、8、12、24。\n",
    "A：将所有奇数相加（17、19）得到36。答案为True。\n",
    "\n",
    "这组数中的奇数加起来是偶数：16、11、14、4、8、13、24。\n",
    "A：将所有奇数相加（11、13）得到24。答案为True。\n",
    "\n",
    "这组数中的奇数加起来是偶数：17、9、10、12、13、4、2。\n",
    "A：将所有奇数相加（17、9、13）得到39。答案为False。\n",
    "\n",
    "这组数中的奇数加起来是偶数：15、32、5、13、82、7、1。\n",
    "A：\n",
    "\n",
    "输出：\n",
    "将所有奇数相加（15、5、13、7、1）得到41。答案为False。\n",
    "\n",
    "\n",
    "零样本 COT 提示：\n",
    "\n",
    "提示\n",
    "我去市场买了10个苹果。我给了邻居2个苹果和修理工2个苹果。然后我去买了5个苹果并吃了1个。我还剩下多少苹果？\n",
    "\n",
    "### 让我们逐步思考。(加与不加的区别)\n",
    "\n",
    "输出\n",
    "首先，您从10个苹果开始。\n",
    "您给了邻居和修理工各2个苹果，所以您还剩下6个苹果。\n",
    "然后您买了5个苹果，所以现在您有11个苹果。\n",
    "最后，您吃了1个苹果，所以您还剩下10个苹果。\n",
    "\n",
    "\n",
    "\n",
    "自动思维链（Auto-CoT）\n",
    "\n"
   ],
   "id": "79d42e27741dac3d"
  }
 ],
 "metadata": {
  "kernelspec": {
   "display_name": "Python 3",
   "language": "python",
   "name": "python3"
  },
  "language_info": {
   "codemirror_mode": {
    "name": "ipython",
    "version": 2
   },
   "file_extension": ".py",
   "mimetype": "text/x-python",
   "name": "python",
   "nbconvert_exporter": "python",
   "pygments_lexer": "ipython2",
   "version": "2.7.6"
  }
 },
 "nbformat": 4,
 "nbformat_minor": 5
}
